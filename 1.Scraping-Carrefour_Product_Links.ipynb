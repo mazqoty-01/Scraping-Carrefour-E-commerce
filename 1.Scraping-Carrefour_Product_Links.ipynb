{
 "cells": [
  {
   "cell_type": "markdown",
   "metadata": {},
   "source": [
    "### Things to change"
   ]
  },
  {
   "cell_type": "code",
   "execution_count": 1,
   "metadata": {},
   "outputs": [],
   "source": [
    "# 1) raw_url\n",
    "# 2) executable_path = \"C:/Drivers/chromedriver.exe\"\n",
    "# 3) path"
   ]
  },
  {
   "cell_type": "markdown",
   "metadata": {},
   "source": [
    "### Imports"
   ]
  },
  {
   "cell_type": "code",
   "execution_count": 2,
   "metadata": {},
   "outputs": [],
   "source": [
    "from selenium import webdriver\n",
    "from selenium.webdriver.common.keys import Keys\n",
    "from selenium.webdriver.support.ui import WebDriverWait\n",
    "from selenium.webdriver.support.ui import Select\n",
    "from selenium.webdriver.support import expected_conditions as EC\n",
    "from selenium.webdriver.common.by import By\n",
    "from tqdm import tqdm\n",
    "import pandas as pd\n",
    "import csv\n",
    "import time\n"
   ]
  },
  {
   "cell_type": "markdown",
   "metadata": {},
   "source": [
    "### URL"
   ]
  },
  {
   "cell_type": "code",
   "execution_count": 3,
   "metadata": {},
   "outputs": [],
   "source": [
    "# Specify the web page\n",
    "\n",
    "raw_url = \"https://www.carrefour.pk/mafpak/en/Baby-Products/c/FPAK1000000?currentPage=0&filter=&nextPageOffset=0&pageSize=60&sortBy=relevance\"\n",
    "\n",
    "#Download webdriver from https://chromedriver.chromium.org/downloads or\n",
    "#https://github.com/mozilla/geckodriver/releases and provide your own path\n",
    "\n",
    "executable_path = \"C:/Drivers/chromedriver.exe\""
   ]
  },
  {
   "cell_type": "markdown",
   "metadata": {},
   "source": [
    "### WebDriver"
   ]
  },
  {
   "cell_type": "code",
   "execution_count": 4,
   "metadata": {},
   "outputs": [
    {
     "name": "stdout",
     "output_type": "stream",
     "text": [
      "Buy Baby Products Online - Shop on Carrefour Pakistan\n"
     ]
    }
   ],
   "source": [
    "driver = webdriver.Chrome(executable_path)\n",
    "driver.get(raw_url)\n",
    "print(driver.title)\n",
    "driver.maximize_window()\n",
    "time.sleep(20)"
   ]
  },
  {
   "cell_type": "markdown",
   "metadata": {},
   "source": [
    "### Killing Popups or iFrames (if required)"
   ]
  },
  {
   "cell_type": "code",
   "execution_count": 5,
   "metadata": {},
   "outputs": [],
   "source": [
    "# #Killing iframes\n",
    "# driver.switch_to.frame(\"google_ads_iframe_/31946216/Splash_660x500_0\") # first frame\n",
    "# driver.find_element_by_xpath('/html/body/div[2]/img').click()\n",
    "\n",
    "# #Switch back to main content\n",
    "# driver.switch_to.default_content()\n",
    "# driver.find_element_by_xpath('//*[@id=\"body-wrapper\"]/div[2]/div/div/div[2]/button[2]').click()\n",
    "\n",
    "# #Killing iframes again\n",
    "# driver.switch_to.frame(\"google_ads_iframe_/31946216/HStrip_NS_0\") # 2nd frame\n",
    "# driver.find_element_by_xpath('/html/body/div[2]/img').click()\n",
    "\n",
    "# #Switch back to main content\n",
    "# driver.switch_to.default_content()"
   ]
  },
  {
   "cell_type": "markdown",
   "metadata": {},
   "source": [
    "### Next Button"
   ]
  },
  {
   "cell_type": "code",
   "execution_count": 6,
   "metadata": {},
   "outputs": [],
   "source": [
    "# while True:\n",
    "#     try:\n",
    "#         wait = WebDriverWait(driver, 400)\n",
    "#         element = wait.until(EC.element_to_be_clickable((By.XPATH, '/html/body/div/div[1]/div/div[3]/div[2]/div[4]')))\n",
    "#         element.click()\n",
    "#     except Exception as e:\n",
    "#         continue"
   ]
  },
  {
   "cell_type": "code",
   "execution_count": 7,
   "metadata": {},
   "outputs": [],
   "source": [
    "while True:\n",
    "    try:\n",
    "        driver.find_element_by_xpath('/html/body/div/div[1]/div/div[3]/div[2]/div[4]').click()\n",
    "        time.sleep(60)\n",
    "    except Exception as e:\n",
    "        break\n",
    "        "
   ]
  },
  {
   "cell_type": "code",
   "execution_count": 8,
   "metadata": {},
   "outputs": [
    {
     "name": "stdout",
     "output_type": "stream",
     "text": [
      "Clicks Completed\n"
     ]
    }
   ],
   "source": [
    "print(\"Clicks Completed\")"
   ]
  },
  {
   "cell_type": "code",
   "execution_count": 9,
   "metadata": {},
   "outputs": [],
   "source": [
    "# wait 10-30 mins after this step, browser populates the data after a while or manually scroll down to let it populate"
   ]
  },
  {
   "cell_type": "markdown",
   "metadata": {},
   "source": [
    "### Extracting All the Product Links on the Webpage"
   ]
  },
  {
   "cell_type": "code",
   "execution_count": 10,
   "metadata": {},
   "outputs": [
    {
     "data": {
      "text/plain": [
       "['https://www.carrefour.pk/mafpak/en/root-maf-category//groceries/biscuits-crackers-cakes/filled-biscuits/cream-chocolate-filled/bisc-cocomo-regular-24pc/p/47837',\n",
       " 'https://www.carrefour.pk/mafpak/en/root-maf-category//baby-products/milk-food-juices/baby-toddler-formula/baby-formula-1-6-years-/nestle-nido-1-forti-protect-1000g/p/141772',\n",
       " 'https://www.carrefour.pk/mafpak/en/root-maf-category//baby-products/milk-food-juices/baby-toddler-meals/flours-cereals-rice/nestle-cerelac-nature-dates-175g/p/232119',\n",
       " 'https://www.carrefour.pk/mafpak/en/root-maf-category//baby-products/changing-bathing/toiletries/baby-bath-toiletries/mechico-baby-shower-3in1-500ml/p/233846',\n",
       " 'https://www.carrefour.pk/mafpak/en/root-maf-category//baby-products/milk-food-juices/juices-beverages/abbott-ensure-powder-vanilla-400gm/p/143749',\n",
       " 'https://www.carrefour.pk/mafpak/en/root-maf-category//baby-products/milk-food-juices/baby-toddler-snacks/baby-biscuit-rusks/pf-rio-cotton-candy-t-p-17-6gx24/p/227425',\n",
       " 'https://www.carrefour.pk/mafpak/en/root-maf-category//baby-products/milk-food-juices/baby-toddler-formula/baby-formula-1-6-years-/nestle-nido-1-shield-150g/p/234106',\n",
       " 'https://www.carrefour.pk/mafpak/en/root-maf-category//baby-products/milk-food-juices/baby-toddler-meals/flours-cereals-rice/nestle-cerelac-wheat-350g-pk/p/38369',\n",
       " 'https://www.carrefour.pk/mafpak/en/root-maf-category//baby-products/changing-bathing/diapers-wipes-diaper-cream/baby-diapers/canbebe-jumbo-x-large-daipers/p/155468',\n",
       " 'https://www.carrefour.pk/mafpak/en/root-maf-category//baby-products/milk-food-juices/juices-beverages/abbott-pediasure-triplesure-v-400g/p/143753',\n",
       " 'https://www.carrefour.pk/mafpak/en/root-maf-category//baby-products/milk-food-juices/baby-toddler-snacks/baby-biscuit-rusks/peek-freans-gluco-snack-43-5gx12/p/42968',\n",
       " 'https://www.carrefour.pk/mafpak/en/root-maf-category//baby-products/changing-bathing/diapers-wipes-diaper-cream/baby-diapers/canbebe-jumbo-junior-daipers/p/155467',\n",
       " 'https://www.carrefour.pk/mafpak/en/root-maf-category//baby-products/milk-food-juices/baby-toddler-meals/flours-cereals-rice/nestle-cerelac-3-fruit-350g-pk/p/38371',\n",
       " 'https://www.carrefour.pk/mafpak/en/root-maf-category//baby-products/milk-food-juices/baby-toddler-formula/baby-formula-1-6-years-/nestle-nido-3-forti-learn-400gm/p/38352',\n",
       " 'https://www.carrefour.pk/mafpak/en/root-maf-category//baby-products/changing-bathing/diapers-wipes-diaper-cream/baby-wipes-family-pack/mechico-baby-wipes-56pc/p/217062',\n",
       " 'https://www.carrefour.pk/mafpak/en/root-maf-category//baby-products/milk-food-juices/baby-toddler-snacks/baby-biscuit-rusks/innovtive-jumbo-junr-24gmx24pc/p/215931',\n",
       " 'https://www.carrefour.pk/mafpak/en/root-maf-category//groceries/biscuits-crackers-cakes/coated-biscuits-wafers/coated-biscuits/bsconi-cocomo-stand-up-pouch-1pc/p/47838',\n",
       " 'https://www.carrefour.pk/mafpak/en/root-maf-category//baby-products/milk-food-juices/baby-toddler-meals/flours-cereals-rice/nestle-cerelac-nature-pomgrnat-175g/p/232118',\n",
       " 'https://www.carrefour.pk/mafpak/en/root-maf-category//baby-products/changing-bathing/diapers-wipes-diaper-cream/baby-diapers/canbebe-jumbo-maxi-daipers/p/155465',\n",
       " 'https://www.carrefour.pk/mafpak/en/root-maf-category//baby-products/milk-food-juices/baby-toddler-formula/baby-formula-1-6-years-/nestle-nido-1-forti-protect-400gm/p/38351',\n",
       " 'https://www.carrefour.pk/mafpak/en/root-maf-category//baby-products/changing-bathing/toiletries/baby-refresh-toiletries/johnsons-cologne-morning-dew-200ml/p/191495',\n",
       " 'https://www.carrefour.pk/mafpak/en/root-maf-category//baby-products/changing-bathing/pull-ups-swimming-pants/baby-pants/canbebe-pants-maxi-120/p/230255',\n",
       " 'https://www.carrefour.pk/mafpak/en/root-maf-category//baby-products/milk-food-juices/baby-toddler-snacks/baby-biscuit-rusks/lu-s-p-tiger-plain-22-5gmx24/p/46424',\n",
       " 'https://www.carrefour.pk/mafpak/en/root-maf-category//groceries/breakfast-cereals-bars/cereals/kids-cereals/nestle-cerelac-bl-junior-red-frt-17/p/144146',\n",
       " 'https://www.carrefour.pk/mafpak/en/root-maf-category//baby-products/milk-food-juices/baby-toddler-snacks/baby-biscuit-rusks/tiger-bar-pack-36gx12/p/229294',\n",
       " 'https://www.carrefour.pk/mafpak/en/root-maf-category//baby-products/changing-bathing/diapers-wipes-diaper-cream/baby-wipes-family-pack/mechico-baby-wipes-80pc/p/217063',\n",
       " 'https://www.carrefour.pk/mafpak/en/root-maf-category//baby-products/changing-bathing/pull-ups-swimming-pants/baby-pants/canbebe-pants-extra-large-72/p/230257',\n",
       " 'https://www.carrefour.pk/mafpak/en/root-maf-category//baby-products/milk-food-juices/juices-beverages/abbott-pediasure-triplesure-c-400g/p/143752',\n",
       " 'https://www.carrefour.pk/mafpak/en/root-maf-category//baby-products/changing-bathing/pull-ups-swimming-pants/baby-pants/canbebe-pants-junior-96/p/230256',\n",
       " 'https://www.carrefour.pk/mafpak/en/root-maf-category//baby-products/milk-food-juices/baby-toddler-snacks/baby-biscuit-rusks/bisconni-cocomo-milk-s-up-pouch-90g/p/226338',\n",
       " 'https://www.carrefour.pk/mafpak/en/root-maf-category//baby-products/milk-food-juices/baby-toddler-snacks/baby-biscuit-rusks/bisconni-cocomo-milk-sp-253-8gx12/p/226324',\n",
       " 'https://www.carrefour.pk/mafpak/en/root-maf-category//groceries/breakfast-cereals-bars/cereals/fitness-cereals/nestle-cerelac-wheat-175g-pk/p/38370',\n",
       " 'https://www.carrefour.pk/mafpak/en/root-maf-category//baby-products/milk-food-juices/juices-beverages/abbott-ensure-powder-chocolate-400g/p/143747',\n",
       " 'https://www.carrefour.pk/mafpak/en/root-maf-category//baby-products/changing-bathing/toiletries/baby-nourish-toiletries/j-j-baby-imported-oil-200ml/p/34012',\n",
       " 'https://www.carrefour.pk/mafpak/en/root-maf-category//baby-products/milk-food-juices/baby-toddler-meals/flours-cereals-rice/nestle-cerelac-3-fruit-175g-pk/p/38372',\n",
       " 'https://www.carrefour.pk/mafpak/en/root-maf-category//baby-products/changing-bathing/diapers-wipes-diaper-cream/baby-diapers/canbebe-jumbo-midi-daipers/p/155464',\n",
       " 'https://www.carrefour.pk/mafpak/en/root-maf-category//baby-products/changing-bathing/toiletries/baby-bath-toiletries/j-j-baby-milk-soap-100gm/p/34019',\n",
       " 'https://www.carrefour.pk/mafpak/en/root-maf-category//baby-products/milk-food-juices/baby-toddler-snacks/baby-biscuit-rusks/bisconni-cocomo-orange-sp-253-8gx12/p/226325',\n",
       " 'https://www.carrefour.pk/mafpak/en/root-maf-category//baby-products/milk-food-juices/baby-toddler-formula/baby-formula-1-6-years-/lactogrow-3-happy-nutri-400g/p/181292',\n",
       " 'https://www.carrefour.pk/mafpak/en/root-maf-category//baby-products/milk-food-juices/baby-toddler-meals/flours-cereals-rice/nestle-cerelac-app-pr-strw-pk-175gm/p/39704',\n",
       " 'https://www.carrefour.pk/mafpak/en/root-maf-category//baby-products/changing-bathing/toiletries/baby-nourish-toiletries/johnsons-lotion-100ml/p/191492',\n",
       " 'https://www.carrefour.pk/mafpak/en/root-maf-category//baby-products/changing-bathing/diapers-wipes-diaper-cream/baby-diapers/canbebe-jumbo-maxi-plus-daipers/p/155466',\n",
       " 'https://www.carrefour.pk/mafpak/en/root-maf-category//baby-products/changing-bathing/toiletries/baby-bath-toiletries/j-j-baby-soap-reg-100gm/p/34018',\n",
       " 'https://www.carrefour.pk/mafpak/en/root-maf-category//baby-products/milk-food-juices/juices-beverages/abbott-ensure-powder-strawbery-400g/p/143748',\n",
       " 'https://www.carrefour.pk/mafpak/en/root-maf-category//baby-products/changing-bathing/toiletries/baby-refresh-toiletries/j-j-baby-powdr-blossom-200gm/p/33994',\n",
       " 'https://www.carrefour.pk/mafpak/en/root-maf-category//baby-products/changing-bathing/toiletries/baby-nourish-toiletries/j-j-baby-lotion-imp-200ml/p/34007',\n",
       " 'https://www.carrefour.pk/mafpak/en/root-maf-category//baby-products/milk-food-juices/baby-toddler-snacks/baby-biscuit-rusks/pf-gluco-plus-141gm/p/42955',\n",
       " 'https://www.carrefour.pk/mafpak/en/root-maf-category//baby-products/baby-healthcare/oral-care/colgate-brush-kids-2-brush/p/37973',\n",
       " 'https://www.carrefour.pk/mafpak/en/root-maf-category//baby-products/milk-food-juices/juices-beverages/abbott-pediasure-triplsure-s400gm/p/163357',\n",
       " 'https://www.carrefour.pk/mafpak/en/root-maf-category//baby-products/changing-bathing/diapers-wipes-diaper-cream/baby-diapers/pampers-mega-pack-junior-s5/p/130336',\n",
       " 'https://www.carrefour.pk/mafpak/en/root-maf-category//baby-products/milk-food-juices/baby-toddler-formula/baby-formula-1-6-years-/lactogrow-3-happysmooth-pk-800gm/p/195606',\n",
       " 'https://www.carrefour.pk/mafpak/en/root-maf-category//baby-products/milk-food-juices/baby-toddler-snacks/baby-biscuit-rusks/bisc-cocomo-strawberry-sp-237-6gx12/p/226326',\n",
       " 'https://www.carrefour.pk/mafpak/en/root-maf-category//baby-products/changing-bathing/toiletries/baby-bath-toiletries/mechico-baby-shower-shampoo-200ml/p/217064',\n",
       " 'https://www.carrefour.pk/mafpak/en/root-maf-category//baby-products/changing-bathing/diapers-wipes-diaper-cream/baby-diapers/canbebe-jumbo-newborn-bag-1-627kg/p/188362',\n",
       " 'https://www.carrefour.pk/mafpak/en/root-maf-category//baby-products/milk-food-juices/juices-beverages/abbott-pediasure-triplesure-v-850g/p/163358',\n",
       " 'https://www.carrefour.pk/mafpak/en/root-maf-category//baby-products/milk-food-juices/baby-toddler-formula/baby-formula-0-6-months-/lactogen-1-happy-nutri-800g/p/176554',\n",
       " 'https://www.carrefour.pk/mafpak/en/root-maf-category//baby-products/milk-food-juices/baby-toddler-meals/flours-cereals-rice/nestle-cerelac-org-apple-175gm/p/39705',\n",
       " 'https://www.carrefour.pk/mafpak/en/root-maf-category//baby-products/changing-bathing/toiletries/baby-bath-toiletries/mechico-baby-shampoo-200ml/p/217065',\n",
       " 'https://www.carrefour.pk/mafpak/en/root-maf-category//baby-products/milk-food-juices/baby-toddler-snacks/baby-biscuit-rusks/pf-rio-cotton-candy-s-p-35-2gx12/p/227424',\n",
       " 'https://www.carrefour.pk/mafpak/en/root-maf-category//baby-products/milk-food-juices/baby-toddler-formula/baby-formula-1-6-years-/lactogrow-3-happysmooth-pk-200gm/p/181293',\n",
       " 'https://www.carrefour.pk/mafpak/en/root-maf-category//baby-products/changing-bathing/diapers-wipes-diaper-cream/baby-diapers/pampers-mega-pack-extra-large-s5/p/204550',\n",
       " 'https://www.carrefour.pk/mafpak/en/root-maf-category//baby-products/changing-bathing/toiletries/baby-nourish-toiletries/j-j-baby-lotion-500ml/p/34009',\n",
       " 'https://www.carrefour.pk/mafpak/en/root-maf-category//baby-products/changing-bathing/diapers-wipes-diaper-cream/baby-diapers/pampers-jumbo-pack-new-born-s1/p/194205',\n",
       " 'https://www.carrefour.pk/mafpak/en/root-maf-category//baby-products/changing-bathing/toiletries/baby-bath-toiletries/johnson-baby-shmp-mena-new-500ml/p/224530',\n",
       " 'https://www.carrefour.pk/mafpak/en/root-maf-category//baby-products/changing-bathing/diapers-wipes-diaper-cream/baby-diapers/canbebe-jumbo-mini-daipers/p/155463',\n",
       " 'https://www.carrefour.pk/mafpak/en/root-maf-category//baby-products/milk-food-juices/baby-toddler-meals/flours-cereals-rice/eco-sagudana-500gm/p/207930',\n",
       " 'https://www.carrefour.pk/mafpak/en/root-maf-category//baby-products/baby-healthcare/oral-care/protect-abc-banana-60gm/p/173266',\n",
       " 'https://www.carrefour.pk/mafpak/en/root-maf-category//baby-products/changing-bathing/toiletries/baby-refresh-toiletries/j-j-baby-powdr-blosom-new-100gm/p/33993',\n",
       " 'https://www.carrefour.pk/mafpak/en/root-maf-category//baby-products/milk-food-juices/juices-beverages/abbott-ensure-nutrivigour/p/168614',\n",
       " 'https://www.carrefour.pk/mafpak/en/root-maf-category//baby-products/changing-bathing/diapers-wipes-diaper-cream/baby-diapers/pampers-mega-pack-large-s4/p/94159',\n",
       " 'https://www.carrefour.pk/mafpak/en/root-maf-category//baby-products/milk-food-juices/baby-toddler-formula/baby-formula-1-6-years-/lactogrow-4-happysmooth-pk-400gm/p/209529',\n",
       " 'https://www.carrefour.pk/mafpak/en/root-maf-category//baby-products/changing-bathing/diapers-wipes-diaper-cream/baby-diapers/shield-diaper-mega-bachat-pack-extr/p/197496',\n",
       " 'https://www.carrefour.pk/mafpak/en/root-maf-category//baby-products/changing-bathing/toiletries/baby-refresh-toiletries/johnson-baby-baby-soft-lot-100ml/p/224538',\n",
       " 'https://www.carrefour.pk/mafpak/en/root-maf-category//baby-products/milk-food-juices/juices-beverages/abbott-ensure-powder-choc-850g/p/163359',\n",
       " 'https://www.carrefour.pk/mafpak/en/root-maf-category//baby-products/milk-food-juices/baby-toddler-meals/flours-cereals-rice/iqra-food-sagodana-100gm/p/33645',\n",
       " 'https://www.carrefour.pk/mafpak/en/root-maf-category//baby-products/milk-food-juices/baby-toddler-snacks/baby-biscuit-rusks/american-kusine-choctella-50gm/p/224054',\n",
       " 'https://www.carrefour.pk/mafpak/en/root-maf-category//baby-products/changing-bathing/diapers-wipes-diaper-cream/baby-diapers/canbebe-super-eco-extra-lrg-daipers/p/155462',\n",
       " 'https://www.carrefour.pk/mafpak/en/root-maf-category//baby-products/changing-bathing/toiletries/baby-refresh-toiletries/j-j-baby-powdr-blossom-500gm/p/33995',\n",
       " 'https://www.carrefour.pk/mafpak/en/root-maf-category//baby-products/changing-bathing/diapers-wipes-diaper-cream/baby-diapers/canbebe-super-eco-maxi-daipers/p/155460',\n",
       " 'https://www.carrefour.pk/mafpak/en/root-maf-category//baby-products/milk-food-juices/baby-toddler-formula/baby-formula-1-6-years-/abbott-similac-gain-3-400gm/p/226342',\n",
       " 'https://www.carrefour.pk/mafpak/en/root-maf-category//baby-products/changing-bathing/toiletries/baby-bath-toiletries/j-j-ptroleum-jelly-scented-250ml/p/34025',\n",
       " 'https://www.carrefour.pk/mafpak/en/root-maf-category//baby-products/changing-bathing/cotton-ear-bud/baby-cottons/j-j-cotton-buds-200buds/p/64222',\n",
       " 'https://www.carrefour.pk/mafpak/en/root-maf-category//baby-products/changing-bathing/toiletries/baby-refresh-toiletries/j-j-baby-powder-new-100gm/p/33990',\n",
       " 'https://www.carrefour.pk/mafpak/en/root-maf-category//baby-products/changing-bathing/diapers-wipes-diaper-cream/baby-diapers/pampers-mega-pack-medium-s3/p/94160',\n",
       " 'https://www.carrefour.pk/mafpak/en/root-maf-category//baby-products/baby-healthcare/oral-care/shield-proclean-t-brush-blister/p/29320',\n",
       " 'https://www.carrefour.pk/mafpak/en/root-maf-category//baby-products/milk-food-juices/juices-beverages/pediasure-triplesure-choc-850gm/p/196913',\n",
       " 'https://www.carrefour.pk/mafpak/en/root-maf-category//baby-products/milk-food-juices/baby-toddler-snacks/baby-biscuit-rusks/whistlez-wiz-snack-pack-46gmx12/p/216481',\n",
       " 'https://www.carrefour.pk/mafpak/en/root-maf-category//baby-products/changing-bathing/toiletries/baby-refresh-toiletries/jhb-sleeptime-lot-200ml/p/212228',\n",
       " 'https://www.carrefour.pk/mafpak/en/root-maf-category//baby-products/changing-bathing/diapers-wipes-diaper-cream/baby-diapers/canbebe-extra-large-daipers/p/155450',\n",
       " 'https://www.carrefour.pk/mafpak/en/root-maf-category//baby-products/milk-food-juices/baby-toddler-formula/baby-formula-1-6-years-/nestle-nangrw-optipro-3-tin-400gm/p/218746',\n",
       " 'https://www.carrefour.pk/mafpak/en/root-maf-category//baby-products/milk-food-juices/juices-beverages/morinaga-bf-mama-van-sp-200g/p/109446',\n",
       " 'https://www.carrefour.pk/mafpak/en/root-maf-category//baby-products/baby-healthcare/oral-care/confident-formula-1-kids-t-brush/p/204011',\n",
       " 'https://www.carrefour.pk/mafpak/en/root-maf-category//baby-products/changing-bathing/diapers-wipes-diaper-cream/baby-diapers/pampers-premium-care-mega-pack-s5/p/203431',\n",
       " 'https://www.carrefour.pk/mafpak/en/root-maf-category//baby-products/milk-food-juices/baby-toddler-formula/baby-formula-1-6-years-/morinaga-bf-3-tin-400g/p/140306',\n",
       " 'https://www.carrefour.pk/mafpak/en/root-maf-category//baby-products/changing-bathing/diapers-wipes-diaper-cream/baby-diapers/canbebe-junior-daipers/p/155449',\n",
       " 'https://www.carrefour.pk/mafpak/en/root-maf-category//baby-products/milk-food-juices/baby-toddler-formula/baby-formula-1-6-years-/enfagrow-a-3800g/p/55270',\n",
       " 'https://www.carrefour.pk/mafpak/en/root-maf-category//baby-products/changing-bathing/diapers-wipes-diaper-cream/baby-diapers/canbebe-super-eco-midi-daipers/p/155459',\n",
       " 'https://www.carrefour.pk/mafpak/en/root-maf-category//baby-products/changing-bathing/diapers-wipes-diaper-cream/baby-diapers/pampers-premium-care-cp-new-born-s1/p/139107',\n",
       " 'https://www.carrefour.pk/mafpak/en/root-maf-category//baby-products/changing-bathing/diapers-wipes-diaper-cream/baby-diapers/canbebe-super-eco-new-born-daipers/p/155457',\n",
       " 'https://www.carrefour.pk/mafpak/en/root-maf-category//baby-products/changing-bathing/diapers-wipes-diaper-cream/baby-diapers/pampers-value-pack-new-born-s1/p/194204',\n",
       " 'https://www.carrefour.pk/mafpak/en/root-maf-category//baby-products/changing-bathing/pull-ups-swimming-pants/baby-pants/pampers-pants-jumbo-pack-junior-s5/p/189307',\n",
       " 'https://www.carrefour.pk/mafpak/en/root-maf-category//baby-products/changing-bathing/diapers-wipes-diaper-cream/baby-diapers/pampers-premium-care-mega-pack-s4/p/203430',\n",
       " 'https://www.carrefour.pk/mafpak/en/root-maf-category//baby-products/milk-food-juices/juices-beverages/abbott-similac-total-comfort-3/p/168615',\n",
       " 'https://www.carrefour.pk/mafpak/en/root-maf-category//baby-products/changing-bathing/diapers-wipes-diaper-cream/baby-diapers/pamper-mega-small-s2/p/95547',\n",
       " 'https://www.carrefour.pk/mafpak/en/root-maf-category//baby-products/changing-bathing/pull-ups-swimming-pants/baby-pants/pampers-pants-mega-pack-medium-s3/p/189309',\n",
       " 'https://www.carrefour.pk/mafpak/en/root-maf-category//baby-products/baby-healthcare/oral-care/kodomo-kid-pste-mix-fruty-flvrd45gm/p/28575',\n",
       " 'https://www.carrefour.pk/mafpak/en/root-maf-category//baby-products/milk-food-juices/baby-toddler-snacks/baby-biscuit-rusks/american-kusine-strawbella-50gm/p/224055',\n",
       " 'https://www.carrefour.pk/mafpak/en/root-maf-category//baby-products/changing-bathing/diapers-wipes-diaper-cream/baby-diapers/canbebe-maxi-daipers/p/155448',\n",
       " 'https://www.carrefour.pk/mafpak/en/root-maf-category//baby-products/milk-food-juices/baby-toddler-formula/baby-formula-1-6-years-/meiji-big-900g/p/158737',\n",
       " 'https://www.carrefour.pk/mafpak/en/root-maf-category//baby-products/changing-bathing/toiletries/baby-refresh-toiletries/mechico-baby-talcum-powder-200gm/p/217084',\n",
       " 'https://www.carrefour.pk/mafpak/en/root-maf-category//baby-products/baby-healthcare/oral-care/pepsodent-junior-paste-orange-50gm/p/107445',\n",
       " 'https://www.carrefour.pk/mafpak/en/root-maf-category//baby-products/changing-bathing/toiletries/baby-nourish-toiletries/wbm-cbaby-f-cream-honey-oil-20gm/p/206908',\n",
       " 'https://www.carrefour.pk/mafpak/en/root-maf-category//baby-products/changing-bathing/diapers-wipes-diaper-cream/baby-diapers/pampers-jumbo-pack-large-s4/p/62787',\n",
       " 'https://www.carrefour.pk/mafpak/en/root-maf-category//baby-products/milk-food-juices/juices-beverages/abbott-ensure-powder-vanilla-850g/p/143746',\n",
       " 'https://www.carrefour.pk/mafpak/en/root-maf-category//baby-products/changing-bathing/toiletries/baby-bath-toiletries/wbm-care-3in1baby-body-wash-300ml/p/206906',\n",
       " 'https://www.carrefour.pk/mafpak/en/root-maf-category//baby-products/milk-food-juices/juices-beverages/enfamama-a-vanilla-400gm/p/52813',\n",
       " 'https://www.carrefour.pk/mafpak/en/root-maf-category//baby-products/changing-bathing/toiletries/baby-refresh-toiletries/j-j-baby-powder-new-500gm/p/33992',\n",
       " 'https://www.carrefour.pk/mafpak/en/root-maf-category//baby-products/changing-bathing/diapers-wipes-diaper-cream/baby-diapers/shield-diaper-mega-bachat-small/p/185104',\n",
       " 'https://www.carrefour.pk/mafpak/en/root-maf-category//baby-products/changing-bathing/diapers-wipes-diaper-cream/baby-diapers/canbebe-midi-daipers/p/155447',\n",
       " 'https://www.carrefour.pk/mafpak/en/root-maf-category//baby-products/changing-bathing/diapers-wipes-diaper-cream/baby-diapers/pampers-jumbo-small-s2/p/62789',\n",
       " 'https://www.carrefour.pk/mafpak/en/root-maf-category//baby-products/milk-food-juices/baby-toddler-meals/flours-cereals-rice/n-l-sagodana-100gm/p/188368',\n",
       " 'https://www.carrefour.pk/mafpak/en/root-maf-category//baby-products/baby-healthcare/oral-care/kodomo-kid-paste-orange-flvred-45gm/p/28574',\n",
       " 'https://www.carrefour.pk/mafpak/en/root-maf-category//baby-products/changing-bathing/toiletries/baby-refresh-toiletries/mechico-baby-crnstrch-powder-200gm/p/217082',\n",
       " 'https://www.carrefour.pk/mafpak/en/root-maf-category//baby-products/milk-food-juices/baby-toddler-formula/baby-formula-1-6-years-/meiji-fu-400g/p/28267',\n",
       " 'https://www.carrefour.pk/mafpak/en/root-maf-category//baby-products/changing-bathing/diapers-wipes-diaper-cream/baby-diapers/canbebe-trial-mini-daipers/p/155446',\n",
       " 'https://www.carrefour.pk/mafpak/en/root-maf-category//baby-products/changing-bathing/diapers-wipes-diaper-cream/baby-diapers/pampers-jumbo-medium-s3/p/62788',\n",
       " 'https://www.carrefour.pk/mafpak/en/root-maf-category//baby-products/milk-food-juices/baby-toddler-formula/baby-formula-1-6-years-/glucerna-triplesure-choc-400gm/p/196915',\n",
       " 'https://www.carrefour.pk/mafpak/en/root-maf-category//baby-products/milk-food-juices/juices-beverages/abbott-similac-total-comfort-stag-2/p/163361',\n",
       " 'https://www.carrefour.pk/mafpak/en/root-maf-category//baby-products/milk-food-juices/baby-toddler-formula/baby-formula-6-12-years-/nestle-nan-2-leb032-tin-400gm/p/38385',\n",
       " 'https://www.carrefour.pk/mafpak/en/root-maf-category//baby-products/changing-bathing/pull-ups-swimming-pants/baby-pants/pampers-pants-jumbo-pack-medium-s3/p/189305',\n",
       " 'https://www.carrefour.pk/mafpak/en/root-maf-category//baby-products/changing-bathing/diapers-wipes-diaper-cream/baby-diapers/canbebe-super-eco-mini-daipers/p/155458',\n",
       " 'https://www.carrefour.pk/mafpak/en/root-maf-category//baby-products/changing-bathing/diapers-wipes-diaper-cream/baby-diapers/pampers-premium-care-mega-pack-s3/p/203429',\n",
       " 'https://www.carrefour.pk/mafpak/en/root-maf-category//baby-products/milk-food-juices/juices-beverages/pediasure-triplesure-strw-850gm/p/196914',\n",
       " 'https://www.carrefour.pk/mafpak/en/root-maf-category//baby-products/changing-bathing/toiletries/baby-refresh-toiletries/mechico-baby-crnstrch-powder-100gm/p/217081',\n",
       " 'https://www.carrefour.pk/mafpak/en/root-maf-category//baby-products/changing-bathing/toiletries/baby-nourish-toiletries/nexton-baby-oil-pink-normal-125ml/p/227488',\n",
       " 'https://www.carrefour.pk/mafpak/en/root-maf-category//baby-products/changing-bathing/diapers-wipes-diaper-cream/baby-diapers/shield-diaper-super-small/p/197493',\n",
       " 'https://www.carrefour.pk/mafpak/en/root-maf-category//baby-products/changing-bathing/diapers-wipes-diaper-cream/baby-diapers/pampers-value-pack-small-s2/p/166792',\n",
       " 'https://www.carrefour.pk/mafpak/en/root-maf-category//baby-products/changing-bathing/pull-ups-swimming-pants/baby-pants/pampers-pants-jumbo-pack-large-s4/p/189306',\n",
       " 'https://www.carrefour.pk/mafpak/en/root-maf-category//baby-products/milk-food-juices/juices-beverages/enfamama-a-chocolate-400gm/p/107672',\n",
       " 'https://www.carrefour.pk/mafpak/en/root-maf-category//baby-products/changing-bathing/toiletries/baby-nourish-toiletries/forhans-baby-lotion-200ml/p/165111',\n",
       " 'https://www.carrefour.pk/mafpak/en/root-maf-category//baby-products/milk-food-juices/baby-toddler-formula/baby-formula-1-6-years-/nestle-nan-opti-2lb32-tin-900gm/p/195603',\n",
       " 'https://www.carrefour.pk/mafpak/en/root-maf-category//baby-products/changing-bathing/diapers-wipes-diaper-cream/baby-diapers/canbebe-trial-new-born-daipers/p/155445',\n",
       " 'https://www.carrefour.pk/mafpak/en/root-maf-category//baby-products/baby-healthcare/oral-care/protect-panda-toothbrush/p/176539',\n",
       " 'https://www.carrefour.pk/mafpak/en/root-maf-category//baby-products/changing-bathing/toiletries/baby-bath-toiletries/j-j-shiny-drops-conditioner-200ml/p/214968',\n",
       " 'https://www.carrefour.pk/mafpak/en/root-maf-category//baby-products/changing-bathing/pull-ups-swimming-pants/baby-pants/pampers-pants-jumbo-pack-ext-lrg-s6/p/189308',\n",
       " 'https://www.carrefour.pk/mafpak/en/root-maf-category//baby-products/changing-bathing/toiletries/baby-nourish-toiletries/forhans-baby-lotion-100ml/p/185486',\n",
       " 'https://www.carrefour.pk/mafpak/en/root-maf-category//baby-products/changing-bathing/diapers-wipes-diaper-cream/baby-diapers/pampers-jumbo-pack-junior-s5/p/119304',\n",
       " 'https://www.carrefour.pk/mafpak/en/root-maf-category//baby-products/milk-food-juices/baby-toddler-formula/baby-formula-1-6-years-/meiji-big-400g/p/28271',\n",
       " 'https://www.carrefour.pk/mafpak/en/root-maf-category//baby-products/changing-bathing/toiletries/baby-bath-toiletries/mechico-baby-shower-100ml-3in1/p/225201',\n",
       " 'https://www.carrefour.pk/mafpak/en/root-maf-category//baby-products/milk-food-juices/juices-beverages/enfagrow-a-4800g/p/55272',\n",
       " 'https://www.carrefour.pk/mafpak/en/root-maf-category//baby-products/changing-bathing/toiletries/baby-refresh-toiletries/nexton-baby-powder-white-100gm/p/227497',\n",
       " 'https://www.carrefour.pk/mafpak/en/root-maf-category//baby-products/changing-bathing/diapers-wipes-diaper-cream/baby-diapers/pampers-value-pack-junior-s5/p/166795',\n",
       " 'https://www.carrefour.pk/mafpak/en/root-maf-category//baby-products/changing-bathing/pull-ups-swimming-pants/baby-pants/hapi-napi-comfort-pants-mega-large/p/223507',\n",
       " 'https://www.carrefour.pk/mafpak/en/root-maf-category//baby-products/changing-bathing/toiletries/kids-beauty/wbm-care-baby-oil/p/219590',\n",
       " 'https://www.carrefour.pk/mafpak/en/root-maf-category//baby-products/milk-food-juices/baby-toddler-formula/baby-formula-1-6-years-/nestle-nan-gr-opti-3lb47-tin-900gm/p/195604',\n",
       " 'https://www.carrefour.pk/mafpak/en/root-maf-category//baby-products/milk-food-juices/baby-toddler-formula/baby-formula-1-6-years-/meiji-lactoless-350g/p/28269',\n",
       " 'https://www.carrefour.pk/mafpak/en/root-maf-category//baby-products/changing-bathing/diapers-wipes-diaper-cream/baby-diapers/pampers-value-pack-large-s4/p/166794',\n",
       " 'https://www.carrefour.pk/mafpak/en/root-maf-category//baby-products/changing-bathing/toiletries/baby-bath-toiletries/cool-cool-baby-shampoo250ml/p/157930',\n",
       " 'https://www.carrefour.pk/mafpak/en/root-maf-category//baby-products/changing-bathing/toiletries/kids-beauty/wbm-care-baby-powder/p/219599',\n",
       " 'https://www.carrefour.pk/mafpak/en/root-maf-category//baby-products/changing-bathing/toiletries/baby-refresh-toiletries/cool-cool-baby-washing-gel-250ml/p/157934',\n",
       " 'https://www.carrefour.pk/mafpak/en/root-maf-category//baby-products/milk-food-juices/baby-toddler-formula/baby-formula-1-6-years-/nestle-nan-1-opti-nwb19-4-800gm/p/195605',\n",
       " 'https://www.carrefour.pk/mafpak/en/root-maf-category//baby-products/changing-bathing/pull-ups-swimming-pants/baby-pants/hapi-napi-comfort-pants-mega-medium/p/223506',\n",
       " 'https://www.carrefour.pk/mafpak/en/root-maf-category//baby-products/milk-food-juices/juices-beverages/abbot-similac-2-400gm/p/143755',\n",
       " 'https://www.carrefour.pk/mafpak/en/root-maf-category//baby-products/milk-food-juices/baby-toddler-formula/baby-formula-6-12-years-/cow-and-gate-blue-2-400gm/p/94586',\n",
       " 'https://www.carrefour.pk/mafpak/en/root-maf-category//baby-products/changing-bathing/toiletries/baby-refresh-toiletries/nexton-baby-powder-white-200gm/p/227494',\n",
       " 'https://www.carrefour.pk/mafpak/en/root-maf-category//baby-products/changing-bathing/toiletries/baby-nourish-toiletries/nexton-baby-oil-green-vitamin-e125m/p/227489',\n",
       " 'https://www.carrefour.pk/mafpak/en/root-maf-category//baby-products/baby-healthcare/baby-vitamins/wbm-care-floral-water-anti-itching/p/219619',\n",
       " 'https://www.carrefour.pk/mafpak/en/root-maf-category//baby-products/milk-food-juices/juices-beverages/resource-dibetes-nestle400gm/p/226987',\n",
       " 'https://www.carrefour.pk/mafpak/en/root-maf-category//baby-products/milk-food-juices/juices-beverages/abbott-similac-mom-400gm/p/143756',\n",
       " 'https://www.carrefour.pk/mafpak/en/root-maf-category//baby-products/changing-bathing/toiletries/baby-refresh-toiletries/palmer-s-c-b-baby-butter-150ml/p/180325',\n",
       " 'https://www.carrefour.pk/mafpak/en/root-maf-category//baby-products/changing-bathing/toiletries/baby-nourish-toiletries/palmer-s-c-b-baby-oil-250ml/p/180326',\n",
       " 'https://www.carrefour.pk/mafpak/en/root-maf-category//baby-products/changing-bathing/diapers-wipes-diaper-cream/baby-diapers/pampers-premium-care-mega-pack-s2/p/203428',\n",
       " 'https://www.carrefour.pk/mafpak/en/root-maf-category//baby-products/changing-bathing/toiletries/baby-refresh-toiletries/palmer-s-diaper-rash-cream-125gm/p/65466']"
      ]
     },
     "execution_count": 10,
     "metadata": {},
     "output_type": "execute_result"
    }
   ],
   "source": [
    "page_links = driver.find_elements_by_class_name('ltr-uviwge')\n",
    "links = []\n",
    "for i in range(len(page_links)):\n",
    "    link = page_links[i].find_elements_by_tag_name(\"a\")[0]\n",
    "    link = link.get_property('href')\n",
    "    links.append(link)\n",
    "\n",
    "\n",
    "links"
   ]
  },
  {
   "cell_type": "code",
   "execution_count": 11,
   "metadata": {},
   "outputs": [
    {
     "data": {
      "text/plain": [
       "173"
      ]
     },
     "execution_count": 11,
     "metadata": {},
     "output_type": "execute_result"
    }
   ],
   "source": [
    "len(links)"
   ]
  },
  {
   "cell_type": "markdown",
   "metadata": {},
   "source": [
    "### Saving Product Links"
   ]
  },
  {
   "cell_type": "code",
   "execution_count": 12,
   "metadata": {},
   "outputs": [
    {
     "name": "stderr",
     "output_type": "stream",
     "text": [
      "Progress: 100%|██████████| 173/173 [00:00<00:00, 43359.10it/s]\n"
     ]
    }
   ],
   "source": [
    "path = 'C:/Users/Mazhar/Projects_Jupyter/6.Scraping-Carrefour/CSV_Pics_Files/Carrefour_Baby_Products_Links.csv'\n",
    "csv_file = open(path, 'w')\n",
    "csv_writer = csv.writer(csv_file)\n",
    "#defining headers\n",
    "#csv_writer.writerow('Product Links')\n",
    "\n",
    "for i in tqdm(range(len(links)), desc = 'Progress'):\n",
    "        product_link = links[i]\n",
    "        csv_writer.writerow([product_link])\n",
    "    \n",
    "\n",
    "csv_file.close() "
   ]
  },
  {
   "cell_type": "code",
   "execution_count": null,
   "metadata": {},
   "outputs": [],
   "source": []
  }
 ],
 "metadata": {
  "kernelspec": {
   "display_name": "Python 3",
   "language": "python",
   "name": "python3"
  },
  "language_info": {
   "codemirror_mode": {
    "name": "ipython",
    "version": 3
   },
   "file_extension": ".py",
   "mimetype": "text/x-python",
   "name": "python",
   "nbconvert_exporter": "python",
   "pygments_lexer": "ipython3",
   "version": "3.7.6"
  }
 },
 "nbformat": 4,
 "nbformat_minor": 4
}
